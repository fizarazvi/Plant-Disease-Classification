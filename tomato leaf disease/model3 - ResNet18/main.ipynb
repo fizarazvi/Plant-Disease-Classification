{
 "cells": [
  {
   "cell_type": "code",
   "execution_count": 1,
   "id": "initial_id",
   "metadata": {
    "collapsed": true,
    "ExecuteTime": {
     "end_time": "2024-03-15T00:18:00.028584500Z",
     "start_time": "2024-03-15T00:17:55.559370500Z"
    }
   },
   "outputs": [],
   "source": [
    "import torch\n",
    "import torchvision\n",
    "import torchvision.transforms as transforms\n",
    "import torch.optim as optim\n",
    "import torch.nn as nn\n",
    "import torchvision.models as models\n"
   ]
  },
  {
   "cell_type": "code",
   "execution_count": 2,
   "outputs": [],
   "source": [
    "transform = transforms.Compose([\n",
    "    transforms.Resize((224, 224)),     # Resize images to 224x224\n",
    "    transforms.ToTensor(),              # Convert images to PyTorch tensors\n",
    "    transforms.Normalize(              # Normalize pixel values\n",
    "        mean=[0.485, 0.456, 0.406],\n",
    "        std=[0.229, 0.224, 0.225]\n",
    "    )\n",
    "])"
   ],
   "metadata": {
    "collapsed": false,
    "ExecuteTime": {
     "end_time": "2024-03-15T00:18:00.044145900Z",
     "start_time": "2024-03-15T00:18:00.028584500Z"
    }
   },
   "id": "a75528caab0c58d3"
  },
  {
   "cell_type": "code",
   "execution_count": 3,
   "outputs": [],
   "source": [
    "train_dataset = torchvision.datasets.ImageFolder(root='train', transform=transform)\n",
    "test_dataset = torchvision.datasets.ImageFolder(root='valid', transform=transform)"
   ],
   "metadata": {
    "collapsed": false,
    "ExecuteTime": {
     "end_time": "2024-03-15T00:18:00.176446700Z",
     "start_time": "2024-03-15T00:18:00.044145900Z"
    }
   },
   "id": "f3f6d9baf765ab45"
  },
  {
   "cell_type": "code",
   "execution_count": 4,
   "outputs": [],
   "source": [
    "train_loader = torch.utils.data.DataLoader(train_dataset, batch_size=25, shuffle=True)\n",
    "test_loader = torch.utils.data.DataLoader(test_dataset, batch_size=25, shuffle=False)"
   ],
   "metadata": {
    "collapsed": false,
    "ExecuteTime": {
     "end_time": "2024-03-15T00:18:00.176446700Z",
     "start_time": "2024-03-15T00:18:00.169374Z"
    }
   },
   "id": "9ad3aaada4281f93"
  },
  {
   "cell_type": "code",
   "execution_count": 5,
   "outputs": [
    {
     "name": "stderr",
     "output_type": "stream",
     "text": [
      "C:\\Users\\dared\\AppData\\Local\\Programs\\Python\\Python310\\lib\\site-packages\\torchvision\\models\\_utils.py:223: UserWarning: Arguments other than a weight enum or `None` for 'weights' are deprecated since 0.13 and may be removed in the future. The current behavior is equivalent to passing `weights=None`.\n",
      "  warnings.warn(msg)\n"
     ]
    }
   ],
   "source": [
    "model = models.resnet18(weights=False)\n",
    "num = model.fc.in_features\n",
    "model.fc = nn.Linear(num, len(train_dataset.classes))"
   ],
   "metadata": {
    "collapsed": false,
    "ExecuteTime": {
     "end_time": "2024-03-15T00:18:00.453554200Z",
     "start_time": "2024-03-15T00:18:00.176446700Z"
    }
   },
   "id": "16c7d963b5194ad7"
  },
  {
   "cell_type": "code",
   "execution_count": 6,
   "outputs": [],
   "source": [
    "criterion = nn.CrossEntropyLoss()\n",
    "optimizer = optim.SGD(model.parameters(), lr=0.001)"
   ],
   "metadata": {
    "collapsed": false,
    "ExecuteTime": {
     "end_time": "2024-03-15T00:18:00.453554200Z",
     "start_time": "2024-03-15T00:18:00.427397700Z"
    }
   },
   "id": "d2546f02a9daacdc"
  },
  {
   "cell_type": "code",
   "execution_count": 7,
   "outputs": [
    {
     "name": "stdout",
     "output_type": "stream",
     "text": [
      "Epoch [1/10], Loss: 1.9740\n",
      "Epoch [2/10], Loss: 1.4110\n",
      "Epoch [3/10], Loss: 1.1637\n",
      "Epoch [4/10], Loss: 1.0027\n",
      "Epoch [5/10], Loss: 0.9009\n",
      "Epoch [6/10], Loss: 0.8172\n",
      "Epoch [7/10], Loss: 0.7559\n",
      "Epoch [8/10], Loss: 0.7103\n",
      "Epoch [9/10], Loss: 0.6589\n",
      "Epoch [10/10], Loss: 0.6230\n"
     ]
    }
   ],
   "source": [
    "num_epochs = 10\n",
    "device = torch.device(\"cuda\" if torch.cuda.is_available() else \"cpu\")\n",
    "model = model.to(device)  # Move model to the appropriate device outside the loop\n",
    "\n",
    "for epoch in range(num_epochs):\n",
    "    model.train()  # Set model to training mode\n",
    "    running_loss = 0.0\n",
    "    for inputs, labels in train_loader:\n",
    "        inputs, labels = inputs.to(device), labels.to(device)\n",
    "        optimizer.zero_grad()\n",
    "        outputs = model(inputs)\n",
    "        loss = criterion(outputs, labels)\n",
    "        loss.backward()\n",
    "        optimizer.step()\n",
    "        running_loss += loss.item() * inputs.size(0)\n",
    "    epoch_loss = running_loss / len(train_loader.dataset)\n",
    "    print(f'Epoch [{epoch+1}/{num_epochs}], Loss: {epoch_loss:.4f}')"
   ],
   "metadata": {
    "collapsed": false,
    "ExecuteTime": {
     "end_time": "2024-03-15T01:02:01.741106900Z",
     "start_time": "2024-03-15T00:18:00.428466800Z"
    }
   },
   "id": "bb5f9f3d1c09fd81"
  },
  {
   "cell_type": "code",
   "execution_count": 8,
   "outputs": [
    {
     "data": {
      "text/plain": "True"
     },
     "execution_count": 8,
     "metadata": {},
     "output_type": "execute_result"
    }
   ],
   "source": [
    "# epochs = 10\n",
    "# \n",
    "# for epoch in range(epochs):\n",
    "#     model.train()\n",
    "#     r_loss = 0\n",
    "#     for inputs, labels in train_dataset:\n",
    "#         optimizer.zero_grad()\n",
    "#         image = torch.unsqueeze(inputs, 0)\n",
    "#         res = model(image)\n",
    "#         targets = torch.tensor(labels)\n",
    "#         loss = crterion(res, targets)\n",
    "#         loss.backward()\n",
    "#         optimizer.step()\n",
    "#         r_loss += loss.item() * inputs.size(0)\n",
    "#     epoch_loss = r_loss/len(train_loader.dataset)\n",
    "#     print(f'Epoch [{epoch+1}/{num}], Loss: {epoch_loss:.4f}')    \n",
    "torch.cuda.is_available()"
   ],
   "metadata": {
    "collapsed": false,
    "ExecuteTime": {
     "end_time": "2024-03-15T01:02:01.809928100Z",
     "start_time": "2024-03-15T01:02:01.747422600Z"
    }
   },
   "id": "9a13a9f77609bef3"
  },
  {
   "cell_type": "code",
   "execution_count": 9,
   "outputs": [
    {
     "name": "stdout",
     "output_type": "stream",
     "text": [
      "Accuracy on test set: 83.09%\n"
     ]
    }
   ],
   "source": [
    "model.eval()\n",
    "correct = 0\n",
    "total = 0\n",
    "device = torch.device(\"cuda\" if torch.cuda.is_available() else \"cpu\")\n",
    "model = model.to(device)  # Move model to the appropriate device outside the loop\n",
    "with torch.no_grad():\n",
    "    for inputs, labels in test_loader:\n",
    "        \n",
    "        inputs, labels = inputs.to(device), labels.to(device)\n",
    "        outputs = model(inputs)\n",
    "        _, predicted = torch.max(outputs, 1)\n",
    "        total += labels.size(0)\n",
    "        correct += (predicted == labels).sum().item()\n",
    "accuracy = correct / total\n",
    "print(f'Accuracy on test set: {100 * accuracy:.2f}%')"
   ],
   "metadata": {
    "collapsed": false,
    "ExecuteTime": {
     "end_time": "2024-03-15T01:32:04.791333700Z",
     "start_time": "2024-03-15T01:30:56.548476600Z"
    }
   },
   "id": "d4815bd6b422b775"
  },
  {
   "cell_type": "code",
   "execution_count": 1,
   "outputs": [
    {
     "ename": "NameError",
     "evalue": "name 'model' is not defined",
     "output_type": "error",
     "traceback": [
      "\u001B[1;31m---------------------------------------------------------------------------\u001B[0m",
      "\u001B[1;31mNameError\u001B[0m                                 Traceback (most recent call last)",
      "Cell \u001B[1;32mIn [1], line 1\u001B[0m\n\u001B[1;32m----> 1\u001B[0m \u001B[43mmodel\u001B[49m\u001B[38;5;241m.\u001B[39meval()\n",
      "\u001B[1;31mNameError\u001B[0m: name 'model' is not defined"
     ]
    }
   ],
   "source": [],
   "metadata": {
    "collapsed": false,
    "ExecuteTime": {
     "end_time": "2024-03-21T01:19:59.918166700Z",
     "start_time": "2024-03-21T01:19:59.496292900Z"
    }
   },
   "id": "8d5812e421a27331"
  }
 ],
 "metadata": {
  "kernelspec": {
   "display_name": "Python 3",
   "language": "python",
   "name": "python3"
  },
  "language_info": {
   "codemirror_mode": {
    "name": "ipython",
    "version": 2
   },
   "file_extension": ".py",
   "mimetype": "text/x-python",
   "name": "python",
   "nbconvert_exporter": "python",
   "pygments_lexer": "ipython2",
   "version": "2.7.6"
  }
 },
 "nbformat": 4,
 "nbformat_minor": 5
}
