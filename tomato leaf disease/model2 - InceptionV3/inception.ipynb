{
 "cells": [
  {
   "cell_type": "code",
   "execution_count": null,
   "outputs": [],
   "source": [
    "import torch"
   ],
   "metadata": {
    "collapsed": false,
    "ExecuteTime": {
     "end_time": "2024-03-14T15:38:23.744304200Z",
     "start_time": "2024-03-14T15:38:23.742302800Z"
    }
   }
  },
  {
   "cell_type": "code",
   "execution_count": 3,
   "metadata": {
    "ExecuteTime": {
     "end_time": "2024-03-14T16:00:35.590498600Z",
     "start_time": "2024-03-14T16:00:35.573973300Z"
    }
   },
   "outputs": [],
   "source": [
    "import torch\n",
    "import matplotlib.pyplot as plt\n",
    "import numpy as np\n",
    "import torchvision\n",
    "from torchvision import datasets\n",
    "import torchvision.transforms as transforms\n",
    "import torch.nn as nn\n",
    "from torchvision import models\n",
    "import torch.optim as optim\n",
    "from torchinfo import summary\n",
    "import mlflow\n",
    "from torch.utils.data import Subset\n",
    "torch.set_default_device('cuda')"
   ]
  },
  {
   "cell_type": "code",
   "execution_count": 4,
   "outputs": [
    {
     "data": {
      "text/plain": "device(type='cuda', index=0)"
     },
     "execution_count": 4,
     "metadata": {},
     "output_type": "execute_result"
    }
   ],
   "source": [
    "device = torch.device(\"cuda:0\" if torch.cuda.is_available() else \"cpu\")\n",
    "device"
   ],
   "metadata": {
    "collapsed": false,
    "ExecuteTime": {
     "end_time": "2024-03-14T16:00:36.664846300Z",
     "start_time": "2024-03-14T16:00:36.645921800Z"
    }
   }
  },
  {
   "cell_type": "code",
   "execution_count": 5,
   "metadata": {
    "ExecuteTime": {
     "end_time": "2024-03-14T16:00:37.414071Z",
     "start_time": "2024-03-14T16:00:37.394544600Z"
    }
   },
   "outputs": [],
   "source": [
    "# remote_server_uri = \" http://127.0.0.1:8080\"\n",
    "# mlflow.set_tracking_uri(remote_server_uri)\n",
    "# mlflow.set_experiment(\"/mlflow-pytorch-quickstart\")"
   ]
  },
  {
   "cell_type": "code",
   "execution_count": 6,
   "metadata": {
    "ExecuteTime": {
     "end_time": "2024-03-14T16:00:38.719739900Z",
     "start_time": "2024-03-14T16:00:38.702643700Z"
    }
   },
   "outputs": [
    {
     "data": {
      "text/plain": "293"
     },
     "execution_count": 6,
     "metadata": {},
     "output_type": "execute_result"
    }
   ],
   "source": [
    "import gc\n",
    "gc.collect()"
   ]
  },
  {
   "cell_type": "code",
   "execution_count": 7,
   "metadata": {
    "ExecuteTime": {
     "end_time": "2024-03-14T16:00:40.301341100Z",
     "start_time": "2024-03-14T16:00:40.268327600Z"
    }
   },
   "outputs": [],
   "source": [
    "def tv_split(dataset,split_size=0.25):\n",
    "    print(len(dataset))\n",
    "    train_idx, val_idx = torch.utils.data.random_split(dataset,[25787,64])\n",
    "    datasets = {}\n",
    "    print(train_idx)\n",
    "    datasets['train'] = train_idx\n",
    "    datasets['validation'] = val_idx\n",
    "    return datasets"
   ]
  },
  {
   "cell_type": "code",
   "execution_count": 8,
   "metadata": {
    "ExecuteTime": {
     "end_time": "2024-03-14T16:00:41.328844Z",
     "start_time": "2024-03-14T16:00:41.046496Z"
    }
   },
   "outputs": [],
   "source": [
    "transform = transforms.Compose([transforms.Resize((300,300)), transforms.ToTensor(), transforms.RandomHorizontalFlip()])\n",
    "traindata = datasets.ImageFolder(\".\\\\dataset\\\\train\", transform=transform)\n",
    "validdata = datasets.ImageFolder(\".\\\\dataset\\\\valid\", transform=transform)\n",
    "\n",
    "# dataset = tv_split(traindata)\n",
    "trainloader = torch.utils.data.DataLoader(traindata, batch_size=60, shuffle=True,generator=torch.Generator(device='cuda'))\n",
    "validationloader = torch.utils.data.DataLoader(validdata, batch_size=60, shuffle=False,generator=torch.Generator(device='cuda'))\n",
    "\n",
    "loader = {'train':trainloader, 'validation':validationloader}"
   ]
  },
  {
   "cell_type": "code",
   "execution_count": null,
   "metadata": {
    "is_executing": true,
    "ExecuteTime": {
     "start_time": "2024-03-14T16:00:06.818157300Z"
    }
   },
   "outputs": [],
   "source": [
    "def im_convert(tensor):\n",
    "  img = tensor.clone().detach().numpy()\n",
    "  img  = img.transpose(1,2,0)\n",
    "  # img = img*np.array(([0.485, 0.456, 0.406])/np.array(([0.229, 0.224, 0.225])))\n",
    "  return img\n",
    "\n",
    "dataiter = iter(trainloader)\n",
    "images, labels = next(dataiter)\n",
    "fig = plt.figure(figsize=(25,4))\n",
    "for i in np.arange(10):\n",
    "  ax = fig.add_subplot(2,10, i+1)\n",
    "  plt.imshow(im_convert(images[i]))\n",
    "  ax.set_title(traindata.classes[labels[i].item()])"
   ]
  },
  {
   "cell_type": "code",
   "execution_count": 10,
   "metadata": {
    "ExecuteTime": {
     "end_time": "2024-03-14T16:02:29.049453200Z",
     "start_time": "2024-03-14T16:02:28.872089400Z"
    }
   },
   "outputs": [],
   "source": [
    "model = models.inception_v3(pretrained=False);"
   ]
  },
  {
   "cell_type": "code",
   "execution_count": 11,
   "metadata": {
    "ExecuteTime": {
     "end_time": "2024-03-14T16:02:30.020354800Z",
     "start_time": "2024-03-14T16:02:29.968095900Z"
    }
   },
   "outputs": [],
   "source": [
    "in_features = model.fc.in_features\n",
    "model.fc=nn.Linear(in_features, len(traindata.classes))\n",
    "model = model.to(device)"
   ]
  },
  {
   "cell_type": "code",
   "execution_count": 12,
   "metadata": {
    "ExecuteTime": {
     "end_time": "2024-03-14T16:02:30.586827800Z",
     "start_time": "2024-03-14T16:02:30.554301500Z"
    }
   },
   "outputs": [],
   "source": [
    "loss_fn = nn.CrossEntropyLoss()\n",
    "optimizer = optim.SGD(model.parameters(), lr = 0.01)"
   ]
  },
  {
   "cell_type": "code",
   "execution_count": 13,
   "metadata": {
    "ExecuteTime": {
     "end_time": "2024-03-14T16:02:31.084086900Z",
     "start_time": "2024-03-14T16:02:31.067547800Z"
    }
   },
   "outputs": [],
   "source": [
    "running_loss_history = []\n",
    "val_running_loss_historu = []\n",
    "\n",
    "running_loss_correct = []\n",
    "val_running_loss_correct = []\n",
    "epochs = 20\n",
    "\n",
    "def train(model, epochs=20):\n",
    "  for i in range(epochs):\n",
    "    running_loss = 0.0\n",
    "    val_running_loss = 0.0\n",
    "\n",
    "    running_correct = 0.0\n",
    "    val_running_correct = 0.0\n",
    "\n",
    "    for inputs, labels in trainloader:\n",
    "      inputs, labels = inputs.to(device), labels.to(device)\n",
    "      outputs,_ = model(inputs)\n",
    "      optimizer.zero_grad()\n",
    "      loss = loss_fn(outputs, labels)\n",
    "      loss.backward()\n",
    "      optimizer.step()\n",
    "      running_loss+=loss.item()\n",
    "      _,pred = torch.max(outputs,1)\n",
    "      running_correct+=torch.sum(pred==labels.data)\n",
    "\n",
    "    else:\n",
    "      with torch.no_grad():\n",
    "        for val_inputs, val_labels in validationloader:\n",
    "          val_inputs,val_labels = val_inputs.to(device), val_labels.to(device)\n",
    "          val_outputs,_ = model(val_inputs)\n",
    "          val_loss = loss_fn(val_outputs, val_labels)\n",
    "          _,val_pred = torch.max(val_outputs,1)\n",
    "          val_running_correct+=torch.sum(val_pred==val_labels.data)\n",
    "          val_running_loss+=val_loss.item()\n",
    "\n",
    "      val_epoch_accuracy = val_running_correct.float()/len(validationloader.dataset)\n",
    "      val_epoch_loss = val_running_loss/len(validationloader.dataset)\n",
    "      val_running_loss_historu.append(val_epoch_loss)\n",
    "      val_running_loss_correct.append(val_epoch_accuracy)\n",
    "\n",
    "      epoch_accuracy = running_correct.float()/len(trainloader.dataset)\n",
    "\n",
    "      epoch_loss = running_loss/len(trainloader.dataset)\n",
    "      running_loss_history.append(epoch_loss)\n",
    "      running_loss_correct.append(epoch_accuracy)\n",
    "\n",
    "      print(\"Epoch:{}\".format(i))\n",
    "      print(\"Training loss:{} and Accuracy:{}\".format(epoch_loss, epoch_accuracy.item()))\n",
    "      print(\"Validation loss: {} and Accuracy:{}\".format(val_epoch_loss, val_epoch_accuracy.item()))"
   ]
  },
  {
   "cell_type": "code",
   "execution_count": null,
   "metadata": {
    "is_executing": true,
    "ExecuteTime": {
     "start_time": "2024-03-14T16:02:31.942995400Z"
    }
   },
   "outputs": [
    {
     "name": "stdout",
     "output_type": "stream",
     "text": [
      "Epoch:0\n",
      "Training loss:0.06634037490958708 and Accuracy:0.29282110929489136\n",
      "Validation loss: 0.09907288780009767 and Accuracy:0.09396977722644806\n"
     ]
    }
   ],
   "source": [
    "# with mlflow.start_run() as run:\n",
    "#     params = {\n",
    "#         \"epochs\":epochs,\n",
    "#         \"learning_rate\":1e-3,\n",
    "#         \"batch_size\":60,\n",
    "#         \"loss_function\": loss_fn.__class__.__name__,\n",
    "#         \"optimizer\": \"SGD\",\n",
    "#     }\n",
    "#     mlflow.log_params(params)\n",
    "#     with open(\"model_summary.txt\", \"w\",encoding=\"utf-8\") as f:\n",
    "#         f.write(str(summary(model)))\n",
    "#     mlflow.log_artifact(\"model_summary.txt\")\n",
    "train(model, epochs)\n",
    "    # mlflow.pytorch.log_model(model, \"model\")    \n"
   ]
  },
  {
   "cell_type": "code",
   "execution_count": 7,
   "metadata": {
    "ExecuteTime": {
     "end_time": "2024-03-14T15:41:05.154914400Z",
     "start_time": "2024-03-14T15:41:05.128916700Z"
    }
   },
   "outputs": [
    {
     "ename": "NameError",
     "evalue": "name 'model' is not defined",
     "output_type": "error",
     "traceback": [
      "\u001B[1;31m---------------------------------------------------------------------------\u001B[0m",
      "\u001B[1;31mNameError\u001B[0m                                 Traceback (most recent call last)",
      "\u001B[1;32m<ipython-input-7-1f8a688cae5d>\u001B[0m in \u001B[0;36m<module>\u001B[1;34m\u001B[0m\n\u001B[1;32m----> 1\u001B[1;33m \u001B[0mmodel\u001B[0m\u001B[1;33m\u001B[0m\u001B[1;33m\u001B[0m\u001B[0m\n\u001B[0m",
      "\u001B[1;31mNameError\u001B[0m: name 'model' is not defined"
     ]
    }
   ],
   "source": [
    "model"
   ]
  },
  {
   "cell_type": "code",
   "execution_count": null,
   "metadata": {
    "ExecuteTime": {
     "start_time": "2024-03-14T15:38:23.786823600Z"
    }
   },
   "outputs": [],
   "source": []
  },
  {
   "cell_type": "code",
   "execution_count": null,
   "metadata": {
    "ExecuteTime": {
     "start_time": "2024-03-14T15:38:23.789829500Z"
    }
   },
   "outputs": [],
   "source": []
  }
 ],
 "metadata": {
  "kernelspec": {
   "display_name": "myenv",
   "language": "python",
   "name": "python3"
  },
  "language_info": {
   "codemirror_mode": {
    "name": "ipython",
    "version": 3
   },
   "file_extension": ".py",
   "mimetype": "text/x-python",
   "name": "python",
   "nbconvert_exporter": "python",
   "pygments_lexer": "ipython3",
   "version": "3.8.18"
  }
 },
 "nbformat": 4,
 "nbformat_minor": 2
}
